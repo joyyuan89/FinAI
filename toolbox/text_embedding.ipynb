{
 "cells": [
  {
   "attachments": {},
   "cell_type": "markdown",
   "metadata": {},
   "source": [
    "# Text embedding"
   ]
  },
  {
   "attachments": {},
   "cell_type": "markdown",
   "metadata": {},
   "source": [
    "tokenization & embedding & cosine similarity"
   ]
  },
  {
   "attachments": {},
   "cell_type": "markdown",
   "metadata": {},
   "source": [
    "## GPT by OpenAI API\n",
    "\n",
    "For more information, read OpenAI's blog post announcements:\n",
    "\n",
    "Introducing Text and Code Embeddings (Jan 2022)\n",
    "New and Improved Embedding Model (Dec 2022)\n",
    "\n",
    "\n",
    "### use cases\n",
    "- Text clustering: see central bank speech\n",
    "- Text classifcation: cal sim between text(full_text, headline, abstract) with each topics, then assign the topic with similarity. \n",
    "Case: opinion analysis\n",
    "- relevance between a topic/statement with text"
   ]
  },
  {
   "cell_type": "code",
   "execution_count": 1,
   "metadata": {},
   "outputs": [],
   "source": [
    "# import openAI \n",
    "\n",
    "# text \n",
    "\n",
    "\n",
    "# if the text is a dataframe with colomns date & text, then we can use the following code to get the text embedding\n",
    "\n",
    "# save to csv\n",
    "# load csv file and convert embedding to array\n",
    "\n",
    "# then use the column \"embeddings\"\" to do any similarity analysis"
   ]
  },
  {
   "attachments": {},
   "cell_type": "markdown",
   "metadata": {},
   "source": [
    "## BERT"
   ]
  },
  {
   "attachments": {},
   "cell_type": "markdown",
   "metadata": {},
   "source": [
    "## use cases\n",
    "app: central_bank_speech\n"
   ]
  },
  {
   "cell_type": "markdown",
   "metadata": {},
   "source": []
  }
 ],
 "metadata": {
  "kernelspec": {
   "display_name": "base",
   "language": "python",
   "name": "python3"
  },
  "language_info": {
   "codemirror_mode": {
    "name": "ipython",
    "version": 3
   },
   "file_extension": ".py",
   "mimetype": "text/x-python",
   "name": "python",
   "nbconvert_exporter": "python",
   "pygments_lexer": "ipython3",
   "version": "3.9.13"
  },
  "orig_nbformat": 4
 },
 "nbformat": 4,
 "nbformat_minor": 2
}
