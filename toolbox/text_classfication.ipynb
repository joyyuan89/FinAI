{
 "cells": [
  {
   "attachments": {},
   "cell_type": "markdown",
   "metadata": {},
   "source": [
    "# Text Classification\n",
    "1. Pre-define all classes( try to be complete and mutually exclusive, like the \"sections\" define below)\n",
    "2. Embed all classes and text\n",
    "3. Calculate similairy with section embeddings and text embeddings\n",
    "4. Assign the class with the highest similarity to the text"
   ]
  },
  {
   "cell_type": "code",
   "execution_count": null,
   "metadata": {},
   "outputs": [],
   "source": [
    "import openai\n",
    "from openai.embeddings_utils import distances_from_embeddings, cosine_similarity\n",
    "\n",
    "#cosine_similarity(query_embedding, candidate_embedding) \n",
    "#returns a float between 0 and 1 representing the cosine similarity between query_embedding and candidate_embedding\n",
    "\n",
    "#distances_from_embeddings(query_embedding, candidate_embeddings, distance_metric='cosine') \n",
    "#returns a list of distances between query_embedding and candidate_embeddings"
   ]
  },
  {
   "cell_type": "code",
   "execution_count": null,
   "metadata": {},
   "outputs": [],
   "source": [
    "# 1. define all sections and get their embeddings\n",
    "\n",
    "sections = [\"politics\",\"business\",\"science\",\"health\",\"sports\",\"arts\",\"books\",\"style\",\"food\",\"travel\",\"magzine\",\"Real Estate\"]\n",
    "#sub_sections = [\"oil price\", \"inflation\", \"interest rate\", \"monetary policy\", \"economic growth\", \"unemployment\"]\n",
    "\n",
    "dic_embeddings_sections = {}\n",
    "for section in sections:\n",
    "    dic_embeddings_sections[section] = openai.Embedding.create(input=section, engine='text-embedding-ada-002')['data'][0]['embedding']"
   ]
  },
  {
   "cell_type": "code",
   "execution_count": null,
   "metadata": {},
   "outputs": [],
   "source": [
    "# 2. calculate cosine similarity with section embeddings in dic_embeddings_sections\n",
    "\n",
    "df_sim = df_embedding.copy()  # df_embedding.embeddings is a list of embeddings\n",
    "\n",
    "# Get the distances from the embeddings\n",
    "for section in dic_embeddings_sections.keys():\n",
    "    embedding = dic_embeddings_sections[section]\n",
    "    # get distance from embeddings\n",
    "    df_sim[section] = distances_from_embeddings(embedding, df_sim['embeddings'].values, distance_metric='cosine')\n",
    "    # get similarity from distance\n",
    "    df_sim[section] = 1 - df_sim[section]\n",
    "\n",
    "# find the highest similarity and asign it to the row\n",
    "df_sim['section'] = df_sim[sections].idxmax(axis=1)\n",
    "\n",
    "#select section = business\n",
    "df_business = df_sim[df_sim.section == 'business']"
   ]
  },
  {
   "cell_type": "markdown",
   "metadata": {},
   "source": []
  }
 ],
 "metadata": {
  "kernelspec": {
   "display_name": "base",
   "language": "python",
   "name": "python3"
  },
  "language_info": {
   "name": "python",
   "version": "3.9.13"
  },
  "orig_nbformat": 4
 },
 "nbformat": 4,
 "nbformat_minor": 2
}
