{
 "cells": [
  {
   "attachments": {},
   "cell_type": "markdown",
   "metadata": {},
   "source": [
    "# 1. Load PDF file"
   ]
  },
  {
   "cell_type": "code",
   "execution_count": 5,
   "metadata": {},
   "outputs": [],
   "source": [
    "import os\n",
    "\n",
    "# get current dir\n",
    "dir = os.getcwd()\n",
    "file_path = dir + '/PDF/r230627b.pdf'"
   ]
  },
  {
   "cell_type": "code",
   "execution_count": 6,
   "metadata": {},
   "outputs": [],
   "source": [
    "#pip install PyPDF\n",
    "from langchain.document_loaders import PyPDFLoader\n",
    "\n",
    "loader = PyPDFLoader(file_path)\n",
    "pages = loader.load_and_split()"
   ]
  },
  {
   "cell_type": "code",
   "execution_count": 7,
   "metadata": {},
   "outputs": [],
   "source": [
    "# select the first page\n",
    "first_page = pages[0].page_content\n",
    "\n",
    "# concat all pages\n",
    "number_of_pages = len(pages)\n",
    "\n",
    "# concat all pages into a list\n",
    "all_pages = [pages[i].page_content for i in range(number_of_pages)]"
   ]
  },
  {
   "attachments": {},
   "cell_type": "markdown",
   "metadata": {},
   "source": [
    "# 2. Chatbox\n",
    "with text length limit"
   ]
  },
  {
   "cell_type": "code",
   "execution_count": 15,
   "metadata": {},
   "outputs": [],
   "source": [
    "from langchain import OpenAI, ConversationChain, LLMChain, PromptTemplate\n",
    "from langchain.memory import ConversationBufferWindowMemory\n",
    "\n",
    "\n",
    "template = \"\"\"Assistant is a large language model trained by OpenAI.\n",
    "\n",
    "Assistant is designed to be able to assist with a wide range of tasks, from answering simple questions to providing in-depth explanations and discussions on a wide range of topics. As a language model, Assistant is able to generate human-like text based on the input it receives, allowing it to engage in natural-sounding conversations and provide responses that are coherent and relevant to the topic at hand.\n",
    "\n",
    "Assistant is constantly learning and improving, and its capabilities are constantly evolving. It is able to process and understand large amounts of text, and can use this knowledge to provide accurate and informative responses to a wide range of questions. Additionally, Assistant is able to generate its own text based on the input it receives, allowing it to engage in discussions and provide explanations and descriptions on a wide range of topics.\n",
    "\n",
    "Overall, Assistant is a powerful tool that can help with a wide range of tasks and provide valuable insights and information on a wide range of topics. Whether you need help with a specific question or just want to have a conversation about a particular topic, Assistant is here to assist.\n",
    "\n",
    "{history}\n",
    "Human: {human_input}\n",
    "Assistant:\"\"\"\n",
    "\n",
    "prompt = PromptTemplate(\n",
    "    input_variables=[\"history\", \"human_input\"], \n",
    "    template=template\n",
    ")\n",
    "\n",
    "\n",
    "chatgpt_chain = LLMChain(\n",
    "    llm=OpenAI(temperature=0), \n",
    "    prompt=prompt, \n",
    "    verbose=True, \n",
    "    memory=ConversationBufferWindowMemory(k=2),\n",
    ")"
   ]
  },
  {
   "cell_type": "code",
   "execution_count": null,
   "metadata": {},
   "outputs": [],
   "source": []
  },
  {
   "cell_type": "code",
   "execution_count": 18,
   "metadata": {},
   "outputs": [],
   "source": [
    "text  = pages[1].page_content\n",
    "# concat questions and text using f-strings\n",
    "first_question = f\"Based on the text, 1)list the top 5 most important topics in the text 2)list take aways briefly: {text}\""
   ]
  },
  {
   "cell_type": "code",
   "execution_count": 19,
   "metadata": {},
   "outputs": [
    {
     "name": "stdout",
     "output_type": "stream",
     "text": [
      "\n",
      "\n",
      "\u001b[1m> Entering new  chain...\u001b[0m\n",
      "Prompt after formatting:\n",
      "\u001b[32;1m\u001b[1;3mAssistant is a large language model trained by OpenAI.\n",
      "\n",
      "Assistant is designed to be able to assist with a wide range of tasks, from answering simple questions to providing in-depth explanations and discussions on a wide range of topics. As a language model, Assistant is able to generate human-like text based on the input it receives, allowing it to engage in natural-sounding conversations and provide responses that are coherent and relevant to the topic at hand.\n",
      "\n",
      "Assistant is constantly learning and improving, and its capabilities are constantly evolving. It is able to process and understand large amounts of text, and can use this knowledge to provide accurate and informative responses to a wide range of questions. Additionally, Assistant is able to generate its own text based on the input it receives, allowing it to engage in discussions and provide explanations and descriptions on a wide range of topics.\n",
      "\n",
      "Overall, Assistant is a powerful tool that can help with a wide range of tasks and provide valuable insights and information on a wide range of topics. Whether you need help with a specific question or just want to have a conversation about a particular topic, Assistant is here to assist.\n",
      "\n",
      "Human: \n",
      "Based on the text, 1)list the top 5 most important topics in the text 2)list take aways briefly.\n",
      "\n",
      "AI: \n",
      "1) The top 5 most important topics in the text are: \n",
      "- OpenAI's language model, Assistant\n",
      "- Its capabilities and how it is constantly learning and improving\n",
      "- Its ability to process and understand large amounts of text\n",
      "- Its ability to generate human-like text\n",
      "- Its ability to engage in natural-sounding conversations\n",
      "\n",
      "2) Takeaways:\n",
      "- Assistant is a powerful language model trained by OpenAI\n",
      "- It is able to process and understand large amounts of text\n",
      "- It is able to generate human-like text and engage in natural-sounding conversations\n",
      "- It is constantly learning and improving, and its capabilities are constantly evolving\n",
      "- It can provide accurate and informative responses to a wide range of questions\n",
      "Human: Based on the text, 1)list the top 5 most important topics in the text 2)list take aways briefly: It is a pleasure to be with you here in Salzburg.1  Bank r egulators, particularly in the \n",
      "United States, have come to an inflection point where we are again taking stock of the reforms \n",
      "implemented after the 2008 financial crisis and evaluating whether these reforms have proven to \n",
      "be sufficient .  One justification for pushing these reviews forward has been the recent stress in \n",
      "the banking system .   \n",
      "The regulatory framework has evolved substantially since  the 2008 financial crisis.   The \n",
      "regulatory landscape has become more restrictive, with large in creases in capital and liquidity \n",
      "requirements, and other post -crisis reform s to improve bank resiliency.  S ince that time, the \n",
      "banking landscape has also evolved.  Today, to stay competitive, banks need to be able to \n",
      "quickly adopt new and innovative technology .   \n",
      "My remarks this afternoon will address  the importance of a responsive  and responsible \n",
      "regulatory framework, including regulation and supervision.  A responsive framework adapt s \n",
      "quickly to changing economic conditions, changing business activities a nd models, and emerging \n",
      "risks.  A responsible framework enables regulators to make changes that are informed by open \n",
      "debate and take into account intended and unintended consequences.  These two concepts —\n",
      "adapting to changing conditions, and transparency ab out regulatory adjustments —are \n",
      "intertwined .  They inform my view about how bank regulation should evolve and adapt over \n",
      "time.  This is particularly relevant now in light of the calls for reform of the regulatory \n",
      "framework, motivated in part by a  desire to remediate perceived weaknesses that contributed to  \n",
      "recent bank failures . \n",
      " \n",
      "1  The views expressed here are my own and not necessarily those of my colleagues on the Federal Open Market \n",
      "Committee or the Board of Governors.\n",
      "Assistant:\u001b[0m\n",
      "\n",
      "\u001b[1m> Finished chain.\u001b[0m\n",
      "\n",
      "1) The top 5 most important topics in the text are: \n",
      "- The 2008 financial crisis and the reforms implemented afterwards\n",
      "- The current stress in the banking system\n",
      "- The evolution of the regulatory framework\n",
      "- The importance of a responsive and responsible regulatory framework\n",
      "- Calls for reform of the regulatory framework\n",
      "\n",
      "2) Takeaways:\n",
      "- The regulatory framework has evolved substantially since the 2008 financial crisis\n",
      "- Banks need to be able to quickly adopt new and innovative technology to stay competitive\n",
      "- A responsive and responsible regulatory framework is necessary to adapt to changing economic conditions and emerging risks\n",
      "- Transparency about regulatory adjustments is important to inform regulatory changes\n",
      "- Calls for reform of the regulatory framework are motivated by a desire to remediate perceived weaknesses that contributed to recent bank failures.\n"
     ]
    }
   ],
   "source": [
    "output = chatgpt_chain.predict(human_input=first_question)\n",
    "print(output)"
   ]
  },
  {
   "cell_type": "code",
   "execution_count": 20,
   "metadata": {},
   "outputs": [
    {
     "name": "stdout",
     "output_type": "stream",
     "text": [
      "\n",
      "\n",
      "\u001b[1m> Entering new  chain...\u001b[0m\n",
      "Prompt after formatting:\n",
      "\u001b[32;1m\u001b[1;3mAssistant is a large language model trained by OpenAI.\n",
      "\n",
      "Assistant is designed to be able to assist with a wide range of tasks, from answering simple questions to providing in-depth explanations and discussions on a wide range of topics. As a language model, Assistant is able to generate human-like text based on the input it receives, allowing it to engage in natural-sounding conversations and provide responses that are coherent and relevant to the topic at hand.\n",
      "\n",
      "Assistant is constantly learning and improving, and its capabilities are constantly evolving. It is able to process and understand large amounts of text, and can use this knowledge to provide accurate and informative responses to a wide range of questions. Additionally, Assistant is able to generate its own text based on the input it receives, allowing it to engage in discussions and provide explanations and descriptions on a wide range of topics.\n",
      "\n",
      "Overall, Assistant is a powerful tool that can help with a wide range of tasks and provide valuable insights and information on a wide range of topics. Whether you need help with a specific question or just want to have a conversation about a particular topic, Assistant is here to assist.\n",
      "\n",
      "Human: \n",
      "Based on the text, 1)list the top 5 most important topics in the text 2)list take aways briefly.\n",
      "\n",
      "AI: \n",
      "1) The top 5 most important topics in the text are: \n",
      "- OpenAI's language model, Assistant\n",
      "- Its capabilities and how it is constantly learning and improving\n",
      "- Its ability to process and understand large amounts of text\n",
      "- Its ability to generate human-like text\n",
      "- Its ability to engage in natural-sounding conversations\n",
      "\n",
      "2) Takeaways:\n",
      "- Assistant is a powerful language model trained by OpenAI\n",
      "- It is able to process and understand large amounts of text\n",
      "- It is able to generate human-like text and engage in natural-sounding conversations\n",
      "- It is constantly learning and improving, and its capabilities are constantly evolving\n",
      "- It can provide accurate and informative responses to a wide range of questions\n",
      "Human: Based on the text, 1)list the top 5 most important topics in the text 2)list take aways briefly: It is a pleasure to be with you here in Salzburg.1  Bank r egulators, particularly in the \n",
      "United States, have come to an inflection point where we are again taking stock of the reforms \n",
      "implemented after the 2008 financial crisis and evaluating whether these reforms have proven to \n",
      "be sufficient .  One justification for pushing these reviews forward has been the recent stress in \n",
      "the banking system .   \n",
      "The regulatory framework has evolved substantially since  the 2008 financial crisis.   The \n",
      "regulatory landscape has become more restrictive, with large in creases in capital and liquidity \n",
      "requirements, and other post -crisis reform s to improve bank resiliency.  S ince that time, the \n",
      "banking landscape has also evolved.  Today, to stay competitive, banks need to be able to \n",
      "quickly adopt new and innovative technology .   \n",
      "My remarks this afternoon will address  the importance of a responsive  and responsible \n",
      "regulatory framework, including regulation and supervision.  A responsive framework adapt s \n",
      "quickly to changing economic conditions, changing business activities a nd models, and emerging \n",
      "risks.  A responsible framework enables regulators to make changes that are informed by open \n",
      "debate and take into account intended and unintended consequences.  These two concepts —\n",
      "adapting to changing conditions, and transparency ab out regulatory adjustments —are \n",
      "intertwined .  They inform my view about how bank regulation should evolve and adapt over \n",
      "time.  This is particularly relevant now in light of the calls for reform of the regulatory \n",
      "framework, motivated in part by a  desire to remediate perceived weaknesses that contributed to  \n",
      "recent bank failures . \n",
      " \n",
      "1  The views expressed here are my own and not necessarily those of my colleagues on the Federal Open Market \n",
      "Committee or the Board of Governors.\n",
      "AI: \n",
      "1) The top 5 most important topics in the text are: \n",
      "- The 2008 financial crisis and the reforms implemented afterwards\n",
      "- The current stress in the banking system\n",
      "- The evolution of the regulatory framework\n",
      "- The importance of a responsive and responsible regulatory framework\n",
      "- Calls for reform of the regulatory framework\n",
      "\n",
      "2) Takeaways:\n",
      "- The regulatory framework has evolved substantially since the 2008 financial crisis\n",
      "- Banks need to be able to quickly adopt new and innovative technology to stay competitive\n",
      "- A responsive and responsible regulatory framework is necessary to adapt to changing economic conditions and emerging risks\n",
      "- Transparency about regulatory adjustments is important to inform regulatory changes\n",
      "- Calls for reform of the regulatory framework are motivated by a desire to remediate perceived weaknesses that contributed to recent bank failures.\n",
      "Human: \n",
      "what's the outlook for economic?\"\n",
      "\n",
      "Assistant:\u001b[0m\n",
      "\n",
      "\u001b[1m> Finished chain.\u001b[0m\n",
      "\n",
      "The outlook for the global economy is uncertain due to the ongoing COVID-19 pandemic. The International Monetary Fund (IMF) has projected that the global economy will contract by 4.9% in 2020, the worst economic downturn since the Great Depression. The IMF also projects that the global economy will recover in 2021, with a growth rate of 5.4%. However, this recovery is dependent on the successful containment of the virus and the implementation of effective economic policies.\n"
     ]
    }
   ],
   "source": [
    "output = chatgpt_chain.predict(human_input=\"\"\"\n",
    "what's the outlook of economic?\"\n",
    "\"\"\")\n",
    "print(output)"
   ]
  },
  {
   "cell_type": "markdown",
   "metadata": {},
   "source": []
  },
  {
   "attachments": {},
   "cell_type": "markdown",
   "metadata": {},
   "source": [
    "# 3. full text Q&A"
   ]
  },
  {
   "attachments": {},
   "cell_type": "markdown",
   "metadata": {},
   "source": [
    "## 3.1 define functions"
   ]
  },
  {
   "cell_type": "code",
   "execution_count": 38,
   "metadata": {},
   "outputs": [],
   "source": [
    "# split the text into chunks\n",
    "max_tokens = 500\n",
    "\n",
    "# Function to split the text into chunks of a maximum number of tokens\n",
    "def split_into_many(text, max_tokens = max_tokens):\n",
    "\n",
    "    # Split the text into sentences\n",
    "    sentences = text.split('. ')\n",
    "\n",
    "    # Get the number of tokens for each sentence\n",
    "    n_tokens = [len(tokenizer.encode(\" \" + sentence)) for sentence in sentences]\n",
    "    \n",
    "    chunks = []\n",
    "    tokens_so_far = 0\n",
    "    chunk = []\n",
    "\n",
    "    # Loop through the sentences and tokens joined together in a tuple\n",
    "    for sentence, token in zip(sentences, n_tokens):\n",
    "\n",
    "        # If the number of tokens so far plus the number of tokens in the current sentence is greater \n",
    "        # than the max number of tokens, then add the chunk to the list of chunks and reset\n",
    "        # the chunk and tokens so far\n",
    "        if tokens_so_far + token > max_tokens:\n",
    "            chunks.append(\". \".join(chunk) + \".\")\n",
    "            chunk = []\n",
    "            tokens_so_far = 0\n",
    "\n",
    "        # If the number of tokens in the current sentence is greater than the max number of \n",
    "        # tokens, go to the next sentence\n",
    "        if token > max_tokens:\n",
    "            continue\n",
    "\n",
    "        # Otherwise, add the sentence to the chunk and add the number of tokens to the total\n",
    "        chunk.append(sentence)\n",
    "        tokens_so_far += token + 1\n",
    "\n",
    "    return chunks"
   ]
  },
  {
   "cell_type": "code",
   "execution_count": 39,
   "metadata": {},
   "outputs": [],
   "source": [
    "def create_context(\n",
    "    question, df, max_len=1800, size=\"ada\"\n",
    "):\n",
    "    \"\"\"\n",
    "    Create a context for a question by finding the most similar context from the dataframe\n",
    "    \"\"\"\n",
    "\n",
    "    # Get the embeddings for the question\n",
    "    q_embeddings = openai.Embedding.create(input=question, engine='text-embedding-ada-002')['data'][0]['embedding']\n",
    "\n",
    "    # Get the distances from the embeddings\n",
    "    df['distances'] = distances_from_embeddings(q_embeddings, df['embeddings'].values, distance_metric='cosine')\n",
    "\n",
    "\n",
    "    returns = []\n",
    "    cur_len = 0\n",
    "\n",
    "    # Sort by distance and add the text to the context until the context is too long\n",
    "    for i, row in df.sort_values('distances', ascending=True).iterrows():\n",
    "        \n",
    "        # Add the length of the text to the current length\n",
    "        cur_len += row['n_tokens'] + 4\n",
    "        \n",
    "        # If the context is too long, break\n",
    "        if cur_len > max_len:\n",
    "            break\n",
    "        \n",
    "        # Else add it to the text that is being returned\n",
    "        returns.append(row[\"text\"])\n",
    "\n",
    "    # Return the context\n",
    "    return \"\\n\\n###\\n\\n\".join(returns)\n",
    "\n",
    "def answer_question(\n",
    "    df,\n",
    "    model=\"text-davinci-003\",\n",
    "    question=\"Am I allowed to publish model outputs to Twitter, without a human review?\",\n",
    "    max_len=1800,\n",
    "    size=\"ada\",\n",
    "    debug=False,\n",
    "    max_tokens=150,\n",
    "    stop_sequence=None\n",
    "):\n",
    "    \"\"\"\n",
    "    Answer a question based on the most similar context from the dataframe texts\n",
    "    \"\"\"\n",
    "    context = create_context(\n",
    "        question,\n",
    "        df,\n",
    "        max_len=max_len,\n",
    "        size=size,\n",
    "    )\n",
    "    # If debug, print the raw model response\n",
    "    if debug:\n",
    "        print(\"Context:\\n\" + context)\n",
    "        print(\"\\n\\n\")\n",
    "\n",
    "    try:\n",
    "        # Create a completions using the question and context\n",
    "        response = openai.Completion.create(\n",
    "            prompt=f\"Answer the question based on the context below, and if the question can't be answered based on the context, say \\\"I don't know\\\"\\n\\nContext: {context}\\n\\n---\\n\\nQuestion: {question}\\nAnswer:\",\n",
    "            temperature=0,\n",
    "            max_tokens=max_tokens,\n",
    "            top_p=1,\n",
    "            frequency_penalty=0,\n",
    "            presence_penalty=0,\n",
    "            stop=stop_sequence,\n",
    "            model=model,\n",
    "        )\n",
    "        return response[\"choices\"][0][\"text\"].strip()\n",
    "    except Exception as e:\n",
    "        print(e)\n",
    "        return \"\""
   ]
  },
  {
   "attachments": {},
   "cell_type": "markdown",
   "metadata": {},
   "source": [
    "## 3.2 load text and split into chunks"
   ]
  },
  {
   "cell_type": "code",
   "execution_count": 30,
   "metadata": {},
   "outputs": [],
   "source": [
    "# concat all pages into string\n",
    "full_text = all_pages"
   ]
  },
  {
   "cell_type": "code",
   "execution_count": 40,
   "metadata": {},
   "outputs": [
    {
     "data": {
      "text/plain": [
       "7956"
      ]
     },
     "execution_count": 40,
     "metadata": {},
     "output_type": "execute_result"
    }
   ],
   "source": [
    "import tiktoken\n",
    "# Load the cl100k_base tokenizer which is designed to work with the ada-002 model\n",
    "tokenizer = tiktoken.get_encoding(\"cl100k_base\")\n",
    "len(tokenizer.encode(full_text))"
   ]
  },
  {
   "cell_type": "code",
   "execution_count": 43,
   "metadata": {},
   "outputs": [],
   "source": [
    "chunks = split_into_many(full_text)"
   ]
  },
  {
   "cell_type": "code",
   "execution_count": 44,
   "metadata": {},
   "outputs": [
    {
     "data": {
      "text/plain": [
       "<AxesSubplot: >"
      ]
     },
     "execution_count": 44,
     "metadata": {},
     "output_type": "execute_result"
    },
    {
     "data": {
      "image/png": "[encoded data removed]",
      "text/plain": [
       "<Figure size 640x480 with 1 Axes>"
      ]
     },
     "metadata": {},
     "output_type": "display_data"
    }
   ],
   "source": [
    "df = pd.DataFrame(chunks, columns = ['text'])\n",
    "df['n_tokens'] = df.text.apply(lambda x: len(tokenizer.encode(x)))\n",
    "df.n_tokens.hist()"
   ]
  },
  {
   "cell_type": "code",
   "execution_count": 45,
   "metadata": {},
   "outputs": [],
   "source": [
    "import openai\n",
    "from openai.embeddings_utils import distances_from_embeddings,cosine_similarity\n",
    "\n",
    "df['embeddings'] = df.text.apply(lambda x: openai.Embedding.create(input=x, engine='text-embedding-ada-002')['data'][0]['embedding'])\n"
   ]
  },
  {
   "cell_type": "code",
   "execution_count": 47,
   "metadata": {},
   "outputs": [
    {
     "data": {
      "text/plain": [
       "\"I don't know.\""
      ]
     },
     "execution_count": 47,
     "metadata": {},
     "output_type": "execute_result"
    }
   ],
   "source": [
    "answer_question(df, question=\"how is the weather?\", debug=False)"
   ]
  },
  {
   "cell_type": "code",
   "execution_count": 51,
   "metadata": {},
   "outputs": [
    {
     "data": {
      "text/plain": [
       "'The topic is responsible and responsive bank regulation and supervision.'"
      ]
     },
     "execution_count": 51,
     "metadata": {},
     "output_type": "execute_result"
    }
   ],
   "source": [
    "answer_question(df, question=\"what's the topic?\")"
   ]
  }
 ],
 "metadata": {
  "kernelspec": {
   "display_name": "base",
   "language": "python",
   "name": "python3"
  },
  "language_info": {
   "codemirror_mode": {
    "name": "ipython",
    "version": 3
   },
   "file_extension": ".py",
   "mimetype": "text/x-python",
   "name": "python",
   "nbconvert_exporter": "python",
   "pygments_lexer": "ipython3",
   "version": "3.8.3"
  },
  "orig_nbformat": 4
 },
 "nbformat": 4,
 "nbformat_minor": 2
}
