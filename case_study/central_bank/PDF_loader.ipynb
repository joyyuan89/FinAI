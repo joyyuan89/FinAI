{
 "cells": [
  {
   "attachments": {},
   "cell_type": "markdown",
   "metadata": {},
   "source": [
    "# 1. Read PDF file"
   ]
  },
  {
   "cell_type": "code",
   "execution_count": 1,
   "metadata": {},
   "outputs": [],
   "source": [
    "#pip install PyPDF"
   ]
  },
  {
   "cell_type": "code",
   "execution_count": 2,
   "metadata": {},
   "outputs": [],
   "source": [
    "import os\n",
    "\n",
    "# get current dir\n",
    "dir = os.getcwd()\n",
    "\n",
    "file_path = dir + '/PDF/r230627b.pdf'\n"
   ]
  },
  {
   "cell_type": "code",
   "execution_count": 3,
   "metadata": {},
   "outputs": [],
   "source": [
    "from langchain.document_loaders import PyPDFLoader\n",
    "\n",
    "loader = PyPDFLoader(file_path)\n",
    "pages = loader.load_and_split()"
   ]
  },
  {
   "cell_type": "code",
   "execution_count": 4,
   "metadata": {},
   "outputs": [],
   "source": [
    "# select the first page\n",
    "first_page = pages[0].page_content\n",
    "\n",
    "# concat all pages\n",
    "number_of_pages = len(pages)\n",
    "\n",
    "#join all page with space\n",
    "\n",
    "all_pages = [pages[i].page_content for i in range(number_of_pages)]"
   ]
  },
  {
   "attachments": {},
   "cell_type": "markdown",
   "metadata": {},
   "source": [
    "# 2. chatGPT"
   ]
  },
  {
   "cell_type": "code",
   "execution_count": null,
   "metadata": {},
   "outputs": [],
   "source": [
    "# import openai\n",
    " \n"
   ]
  },
  {
   "cell_type": "code",
   "execution_count": 7,
   "metadata": {},
   "outputs": [
    {
     "data": {
      "text/plain": [
       "'It is a pleasure to be with you here in Salzburg.1  Bank r egulators, particularly in the \\nUnited States, have come to an inflection point where we are again taking stock of the reforms \\nimplemented after the 2008 financial crisis and evaluating whether these reforms have proven to \\nbe sufficient .  One justification for pushing these reviews forward has been the recent stress in \\nthe banking system .   \\nThe regulatory framework has evolved substantially since  the 2008 financial crisis.   The \\nregulatory landscape has become more restrictive, with large in creases in capital and liquidity \\nrequirements, and other post -crisis reform s to improve bank resiliency.  S ince that time, the \\nbanking landscape has also evolved.  Today, to stay competitive, banks need to be able to \\nquickly adopt new and innovative technology .   \\nMy remarks this afternoon will address  the importance of a responsive  and responsible \\nregulatory framework, including regulation and supervision.  A responsive framework adapt s \\nquickly to changing economic conditions, changing business activities a nd models, and emerging \\nrisks.  A responsible framework enables regulators to make changes that are informed by open \\ndebate and take into account intended and unintended consequences.  These two concepts —\\nadapting to changing conditions, and transparency ab out regulatory adjustments —are \\nintertwined .  They inform my view about how bank regulation should evolve and adapt over \\ntime.  This is particularly relevant now in light of the calls for reform of the regulatory \\nframework, motivated in part by a  desire to remediate perceived weaknesses that contributed to  \\nrecent bank failures . \\n \\n1  The views expressed here are my own and not necessarily those of my colleagues on the Federal Open Market \\nCommittee or the Board of Governors.'"
      ]
     },
     "execution_count": 7,
     "metadata": {},
     "output_type": "execute_result"
    }
   ],
   "source": [
    "#get meeting info from the first page\n",
    "\n",
    "pages[1].page_content"
   ]
  },
  {
   "cell_type": "code",
   "execution_count": null,
   "metadata": {},
   "outputs": [],
   "source": []
  }
 ],
 "metadata": {
  "kernelspec": {
   "display_name": "base",
   "language": "python",
   "name": "python3"
  },
  "language_info": {
   "codemirror_mode": {
    "name": "ipython",
    "version": 3
   },
   "file_extension": ".py",
   "mimetype": "text/x-python",
   "name": "python",
   "nbconvert_exporter": "python",
   "pygments_lexer": "ipython3",
   "version": "3.8.3"
  },
  "orig_nbformat": 4
 },
 "nbformat": 4,
 "nbformat_minor": 2
}
