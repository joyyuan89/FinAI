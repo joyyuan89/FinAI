{
 "cells": [
  {
   "attachments": {},
   "cell_type": "markdown",
   "metadata": {},
   "source": [
    "# Case study: Back to the great inflation in 1980s with FED meeting minutes\n",
    "\n",
    "Compared to news articles, the text of the Fed meeting minutes tends to be more standardized and structured. Instead of conducting sentiment analysis, we will focus on extracting expressions from the text and manually analyzing the subtle attitudes of the Fed.\n",
    "\n",
    "ChatGPT is used to analyze the topics and patterns present in the text.\n",
    "\n",
    "- Dataset: sourced from https://www.federalreserve.gov/ in the form of PDFs, and converted to text using OCR technology for analysis. \n",
    "- Methodology:\n",
    "    * "
   ]
  },
  {
   "attachments": {},
   "cell_type": "markdown",
   "metadata": {},
   "source": [
    "# 1. Prepare data: loading and preprocessing"
   ]
  },
  {
   "cell_type": "code",
   "execution_count": 1,
   "metadata": {},
   "outputs": [],
   "source": [
    "import pandas as pd\n",
    "import os"
   ]
  },
  {
   "cell_type": "code",
   "execution_count": 482,
   "metadata": {},
   "outputs": [],
   "source": [
    "#Load data\n",
    "dir = os.getcwd()\n",
    "data = pd.read_csv(os.path.join(dir,'INPUT/fed_meeting_minutes/fed_minutes_1967-1985.csv'))\n",
    "#convert string YYYYMMDD to datetime\n",
    "data[\"date\"] = data.date.apply(lambda x: pd.to_datetime(x, format=\"%Y%m%d\"))\n",
    "data = data[[\"date\", \"text\"]]\n",
    "\n",
    "#concate text by date\n",
    "df = data.groupby(\"date\").apply(lambda x: x.text.str.cat(sep=\" \")).reset_index()\n",
    "df.columns = [\"date\", \"raw_text\"]\n",
    "#select data from 1979 to 1983\n",
    "df = df[df.date > \"1979-01-01\"]\n",
    "df = df[df.date < \"1984-01-01\"]\n",
    "#reset index\n",
    "df = df.reset_index(drop=True)"
   ]
  },
  {
   "cell_type": "code",
   "execution_count": 484,
   "metadata": {},
   "outputs": [],
   "source": [
    "#remove the meeting info and the end of the text\n",
    "df[\"outlook\"] = df.raw_text.apply(lambda x: x.split(\"foster monetary and financial conditions\")[1] if \"foster monetary and financial conditions\" in x else None)\n",
    "#remove rows with no outlook\n",
    "df = df[df.outlook.notnull()]\n",
    "df[\"outlook_clean\"] = df.outlook.apply(lambda x: x.split(\"By unanimous vote\")[0] if \"By unanimous vote\" in x else x)\n",
    "\n",
    "# add \"The Federal Open Market Committee seeks to foster monetary and financial conditions\" at the beginning of the text\n",
    "df[\"outlook_clean\"] = \"The Federal Open Market Committee seeks to foster monetary and financial conditions\" + df.outlook_clean"
   ]
  },
  {
   "cell_type": "code",
   "execution_count": 485,
   "metadata": {},
   "outputs": [
    {
     "data": {
      "text/plain": [
       "<AxesSubplot:>"
      ]
     },
     "execution_count": 485,
     "metadata": {},
     "output_type": "execute_result"
    },
    {
     "data": {
      "image/png": "[encoded data removed]",
      "text/plain": [
       "<Figure size 640x480 with 1 Axes>"
      ]
     },
     "metadata": {},
     "output_type": "display_data"
    }
   ],
   "source": [
    "import tiktoken\n",
    "\n",
    "# Load the cl100k_base tokenizer which is designed to work with the ada-002 model\n",
    "tokenizer = tiktoken.get_encoding(\"cl100k_base\")\n",
    "\n",
    "# Tokenize the text and save the number of tokens to a new column\n",
    "df['n_tokens'] = df.outlook_clean.apply(lambda x: len(tokenizer.encode(x)))\n",
    "\n",
    "# Visualize the distribution of the number of tokens per row using a histogram\n",
    "df.n_tokens.hist()"
   ]
  },
  {
   "cell_type": "code",
   "execution_count": 538,
   "metadata": {},
   "outputs": [],
   "source": [
    "#select clolumns: date outlook_clean and n_tokens\n",
    "df = df[[\"date\", \"outlook_clean\", \"n_tokens\"]]\n",
    "#reset index\n",
    "df = df.reset_index(drop=True)"
   ]
  },
  {
   "cell_type": "code",
   "execution_count": 539,
   "metadata": {},
   "outputs": [
    {
     "data": {
      "text/html": [
       "<div>\n",
       "<style scoped>\n",
       "    .dataframe tbody tr th:only-of-type {\n",
       "        vertical-align: middle;\n",
       "    }\n",
       "\n",
       "    .dataframe tbody tr th {\n",
       "        vertical-align: top;\n",
       "    }\n",
       "\n",
       "    .dataframe thead th {\n",
       "        text-align: right;\n",
       "    }\n",
       "</style>\n",
       "<table border=\"1\" class=\"dataframe\">\n",
       "  <thead>\n",
       "    <tr style=\"text-align: right;\">\n",
       "      <th></th>\n",
       "      <th>date</th>\n",
       "      <th>outlook_clean</th>\n",
       "      <th>n_tokens</th>\n",
       "    </tr>\n",
       "  </thead>\n",
       "  <tbody>\n",
       "    <tr>\n",
       "      <th>0</th>\n",
       "      <td>1979-02-06</td>\n",
       "      <td>The Federal Open Market Committee seeks to fos...</td>\n",
       "      <td>343</td>\n",
       "    </tr>\n",
       "    <tr>\n",
       "      <th>1</th>\n",
       "      <td>1979-03-20</td>\n",
       "      <td>The Federal Open Market Committee seeks to fos...</td>\n",
       "      <td>485</td>\n",
       "    </tr>\n",
       "    <tr>\n",
       "      <th>2</th>\n",
       "      <td>1979-04-17</td>\n",
       "      <td>The Federal Open Market Committee seeks to fos...</td>\n",
       "      <td>483</td>\n",
       "    </tr>\n",
       "    <tr>\n",
       "      <th>3</th>\n",
       "      <td>1979-05-22</td>\n",
       "      <td>The Federal Open Market Committee seeks to fos...</td>\n",
       "      <td>538</td>\n",
       "    </tr>\n",
       "    <tr>\n",
       "      <th>4</th>\n",
       "      <td>1979-07-11</td>\n",
       "      <td>The Federal Open Market Committee seeks to fos...</td>\n",
       "      <td>669</td>\n",
       "    </tr>\n",
       "    <tr>\n",
       "      <th>5</th>\n",
       "      <td>1979-08-14</td>\n",
       "      <td>The Federal Open Market Committee seeks to fos...</td>\n",
       "      <td>616</td>\n",
       "    </tr>\n",
       "    <tr>\n",
       "      <th>6</th>\n",
       "      <td>1979-09-18</td>\n",
       "      <td>The Federal Open Market Committee seeks to fos...</td>\n",
       "      <td>711</td>\n",
       "    </tr>\n",
       "    <tr>\n",
       "      <th>7</th>\n",
       "      <td>1979-10-06</td>\n",
       "      <td>The Federal Open Market Committee seeks to fos...</td>\n",
       "      <td>475</td>\n",
       "    </tr>\n",
       "    <tr>\n",
       "      <th>8</th>\n",
       "      <td>1979-11-20</td>\n",
       "      <td>The Federal Open Market Committee seeks to fos...</td>\n",
       "      <td>503</td>\n",
       "    </tr>\n",
       "    <tr>\n",
       "      <th>9</th>\n",
       "      <td>1980-01-09</td>\n",
       "      <td>The Federal Open Market Committee seeks to fos...</td>\n",
       "      <td>433</td>\n",
       "    </tr>\n",
       "    <tr>\n",
       "      <th>10</th>\n",
       "      <td>1980-02-05</td>\n",
       "      <td>The Federal Open Market Committee seeks to fos...</td>\n",
       "      <td>337</td>\n",
       "    </tr>\n",
       "    <tr>\n",
       "      <th>11</th>\n",
       "      <td>1980-03-18</td>\n",
       "      <td>The Federal Open Market Committee seeks to fos...</td>\n",
       "      <td>688</td>\n",
       "    </tr>\n",
       "    <tr>\n",
       "      <th>12</th>\n",
       "      <td>1980-04-22</td>\n",
       "      <td>The Federal Open Market Committee seeks to fos...</td>\n",
       "      <td>411</td>\n",
       "    </tr>\n",
       "    <tr>\n",
       "      <th>13</th>\n",
       "      <td>1980-05-20</td>\n",
       "      <td>The Federal Open Market Committee seeks to fos...</td>\n",
       "      <td>345</td>\n",
       "    </tr>\n",
       "    <tr>\n",
       "      <th>14</th>\n",
       "      <td>1980-07-09</td>\n",
       "      <td>The Federal Open Market Committee seeks to fos...</td>\n",
       "      <td>335</td>\n",
       "    </tr>\n",
       "    <tr>\n",
       "      <th>15</th>\n",
       "      <td>1980-08-12</td>\n",
       "      <td>The Federal Open Market Committee seeks to fos...</td>\n",
       "      <td>412</td>\n",
       "    </tr>\n",
       "    <tr>\n",
       "      <th>16</th>\n",
       "      <td>1980-09-16</td>\n",
       "      <td>The Federal Open Market Committee seeks to fos...</td>\n",
       "      <td>372</td>\n",
       "    </tr>\n",
       "    <tr>\n",
       "      <th>17</th>\n",
       "      <td>1980-10-21</td>\n",
       "      <td>The Federal Open Market Committee seeks to fos...</td>\n",
       "      <td>410</td>\n",
       "    </tr>\n",
       "    <tr>\n",
       "      <th>18</th>\n",
       "      <td>1980-11-18</td>\n",
       "      <td>The Federal Open Market Committee seeks to fos...</td>\n",
       "      <td>419</td>\n",
       "    </tr>\n",
       "    <tr>\n",
       "      <th>19</th>\n",
       "      <td>1980-12-19</td>\n",
       "      <td>The Federal Open Market Committee seeks to fos...</td>\n",
       "      <td>512</td>\n",
       "    </tr>\n",
       "    <tr>\n",
       "      <th>20</th>\n",
       "      <td>1981-02-03</td>\n",
       "      <td>The Federal Open Market Committee seeks to fos...</td>\n",
       "      <td>457</td>\n",
       "    </tr>\n",
       "    <tr>\n",
       "      <th>21</th>\n",
       "      <td>1981-03-31</td>\n",
       "      <td>The Federal Open Market Committee seeks to fos...</td>\n",
       "      <td>417</td>\n",
       "    </tr>\n",
       "    <tr>\n",
       "      <th>22</th>\n",
       "      <td>1981-05-18</td>\n",
       "      <td>The Federal Open Market Committee seeks to fos...</td>\n",
       "      <td>437</td>\n",
       "    </tr>\n",
       "    <tr>\n",
       "      <th>23</th>\n",
       "      <td>1981-07-07</td>\n",
       "      <td>The Federal Open Market Committee seeks to fos...</td>\n",
       "      <td>607</td>\n",
       "    </tr>\n",
       "    <tr>\n",
       "      <th>24</th>\n",
       "      <td>1981-08-18</td>\n",
       "      <td>The Federal Open Market Committee seeks to fos...</td>\n",
       "      <td>618</td>\n",
       "    </tr>\n",
       "    <tr>\n",
       "      <th>25</th>\n",
       "      <td>1981-10-06</td>\n",
       "      <td>The Federal Open Market Committee seeks to fos...</td>\n",
       "      <td>589</td>\n",
       "    </tr>\n",
       "    <tr>\n",
       "      <th>26</th>\n",
       "      <td>1981-11-17</td>\n",
       "      <td>The Federal Open Market Committee seeks to fos...</td>\n",
       "      <td>585</td>\n",
       "    </tr>\n",
       "    <tr>\n",
       "      <th>27</th>\n",
       "      <td>1981-12-22</td>\n",
       "      <td>The Federal Open Market Committee seeks to fos...</td>\n",
       "      <td>585</td>\n",
       "    </tr>\n",
       "    <tr>\n",
       "      <th>28</th>\n",
       "      <td>1982-02-02</td>\n",
       "      <td>The Federal Open Market Committee seeks to fos...</td>\n",
       "      <td>344</td>\n",
       "    </tr>\n",
       "    <tr>\n",
       "      <th>29</th>\n",
       "      <td>1982-03-30</td>\n",
       "      <td>The Federal Open Market Committee seeks to fos...</td>\n",
       "      <td>600</td>\n",
       "    </tr>\n",
       "    <tr>\n",
       "      <th>30</th>\n",
       "      <td>1982-05-18</td>\n",
       "      <td>The Federal Open Market Committee seeks to fos...</td>\n",
       "      <td>313</td>\n",
       "    </tr>\n",
       "    <tr>\n",
       "      <th>31</th>\n",
       "      <td>1982-07-01</td>\n",
       "      <td>The Federal Open Market Committee seeks to fos...</td>\n",
       "      <td>334</td>\n",
       "    </tr>\n",
       "    <tr>\n",
       "      <th>32</th>\n",
       "      <td>1982-07-15</td>\n",
       "      <td>The Federal Open Market Committee seeks to fos...</td>\n",
       "      <td>356</td>\n",
       "    </tr>\n",
       "    <tr>\n",
       "      <th>33</th>\n",
       "      <td>1982-08-24</td>\n",
       "      <td>The Federal Open Market Committee seeks to fos...</td>\n",
       "      <td>477</td>\n",
       "    </tr>\n",
       "    <tr>\n",
       "      <th>34</th>\n",
       "      <td>1982-10-05</td>\n",
       "      <td>The Federal Open Market Committee seeks to fos...</td>\n",
       "      <td>642</td>\n",
       "    </tr>\n",
       "    <tr>\n",
       "      <th>35</th>\n",
       "      <td>1982-11-16</td>\n",
       "      <td>The Federal Open Market Committee seeks to fos...</td>\n",
       "      <td>573</td>\n",
       "    </tr>\n",
       "    <tr>\n",
       "      <th>36</th>\n",
       "      <td>1982-12-21</td>\n",
       "      <td>The Federal Open Market Committee seeks to fos...</td>\n",
       "      <td>713</td>\n",
       "    </tr>\n",
       "    <tr>\n",
       "      <th>37</th>\n",
       "      <td>1983-02-09</td>\n",
       "      <td>The Federal Open Market Committee seeks to fos...</td>\n",
       "      <td>797</td>\n",
       "    </tr>\n",
       "    <tr>\n",
       "      <th>38</th>\n",
       "      <td>1983-03-29</td>\n",
       "      <td>The Federal Open Market Committee seeks to fos...</td>\n",
       "      <td>975</td>\n",
       "    </tr>\n",
       "    <tr>\n",
       "      <th>39</th>\n",
       "      <td>1983-05-24</td>\n",
       "      <td>The Federal Open Market Committee seeks to fos...</td>\n",
       "      <td>888</td>\n",
       "    </tr>\n",
       "    <tr>\n",
       "      <th>40</th>\n",
       "      <td>1983-07-13</td>\n",
       "      <td>The Federal Open Market Committee seeks to fos...</td>\n",
       "      <td>1025</td>\n",
       "    </tr>\n",
       "    <tr>\n",
       "      <th>41</th>\n",
       "      <td>1983-08-23</td>\n",
       "      <td>The Federal Open Market Committee seeks to fos...</td>\n",
       "      <td>793</td>\n",
       "    </tr>\n",
       "    <tr>\n",
       "      <th>42</th>\n",
       "      <td>1983-10-04</td>\n",
       "      <td>The Federal Open Market Committee seeks to fos...</td>\n",
       "      <td>800</td>\n",
       "    </tr>\n",
       "    <tr>\n",
       "      <th>43</th>\n",
       "      <td>1983-11-15</td>\n",
       "      <td>The Federal Open Market Committee seeks to fos...</td>\n",
       "      <td>807</td>\n",
       "    </tr>\n",
       "    <tr>\n",
       "      <th>44</th>\n",
       "      <td>1983-12-20</td>\n",
       "      <td>The Federal Open Market Committee seeks to fos...</td>\n",
       "      <td>721</td>\n",
       "    </tr>\n",
       "  </tbody>\n",
       "</table>\n",
       "</div>"
      ],
      "text/plain": [
       "         date                                      outlook_clean  n_tokens\n",
       "0  1979-02-06  The Federal Open Market Committee seeks to fos...       343\n",
       "1  1979-03-20  The Federal Open Market Committee seeks to fos...       485\n",
       "2  1979-04-17  The Federal Open Market Committee seeks to fos...       483\n",
       "3  1979-05-22  The Federal Open Market Committee seeks to fos...       538\n",
       "4  1979-07-11  The Federal Open Market Committee seeks to fos...       669\n",
       "5  1979-08-14  The Federal Open Market Committee seeks to fos...       616\n",
       "6  1979-09-18  The Federal Open Market Committee seeks to fos...       711\n",
       "7  1979-10-06  The Federal Open Market Committee seeks to fos...       475\n",
       "8  1979-11-20  The Federal Open Market Committee seeks to fos...       503\n",
       "9  1980-01-09  The Federal Open Market Committee seeks to fos...       433\n",
       "10 1980-02-05  The Federal Open Market Committee seeks to fos...       337\n",
       "11 1980-03-18  The Federal Open Market Committee seeks to fos...       688\n",
       "12 1980-04-22  The Federal Open Market Committee seeks to fos...       411\n",
       "13 1980-05-20  The Federal Open Market Committee seeks to fos...       345\n",
       "14 1980-07-09  The Federal Open Market Committee seeks to fos...       335\n",
       "15 1980-08-12  The Federal Open Market Committee seeks to fos...       412\n",
       "16 1980-09-16  The Federal Open Market Committee seeks to fos...       372\n",
       "17 1980-10-21  The Federal Open Market Committee seeks to fos...       410\n",
       "18 1980-11-18  The Federal Open Market Committee seeks to fos...       419\n",
       "19 1980-12-19  The Federal Open Market Committee seeks to fos...       512\n",
       "20 1981-02-03  The Federal Open Market Committee seeks to fos...       457\n",
       "21 1981-03-31  The Federal Open Market Committee seeks to fos...       417\n",
       "22 1981-05-18  The Federal Open Market Committee seeks to fos...       437\n",
       "23 1981-07-07  The Federal Open Market Committee seeks to fos...       607\n",
       "24 1981-08-18  The Federal Open Market Committee seeks to fos...       618\n",
       "25 1981-10-06  The Federal Open Market Committee seeks to fos...       589\n",
       "26 1981-11-17  The Federal Open Market Committee seeks to fos...       585\n",
       "27 1981-12-22  The Federal Open Market Committee seeks to fos...       585\n",
       "28 1982-02-02  The Federal Open Market Committee seeks to fos...       344\n",
       "29 1982-03-30  The Federal Open Market Committee seeks to fos...       600\n",
       "30 1982-05-18  The Federal Open Market Committee seeks to fos...       313\n",
       "31 1982-07-01  The Federal Open Market Committee seeks to fos...       334\n",
       "32 1982-07-15  The Federal Open Market Committee seeks to fos...       356\n",
       "33 1982-08-24  The Federal Open Market Committee seeks to fos...       477\n",
       "34 1982-10-05  The Federal Open Market Committee seeks to fos...       642\n",
       "35 1982-11-16  The Federal Open Market Committee seeks to fos...       573\n",
       "36 1982-12-21  The Federal Open Market Committee seeks to fos...       713\n",
       "37 1983-02-09  The Federal Open Market Committee seeks to fos...       797\n",
       "38 1983-03-29  The Federal Open Market Committee seeks to fos...       975\n",
       "39 1983-05-24  The Federal Open Market Committee seeks to fos...       888\n",
       "40 1983-07-13  The Federal Open Market Committee seeks to fos...      1025\n",
       "41 1983-08-23  The Federal Open Market Committee seeks to fos...       793\n",
       "42 1983-10-04  The Federal Open Market Committee seeks to fos...       800\n",
       "43 1983-11-15  The Federal Open Market Committee seeks to fos...       807\n",
       "44 1983-12-20  The Federal Open Market Committee seeks to fos...       721"
      ]
     },
     "execution_count": 539,
     "metadata": {},
     "output_type": "execute_result"
    }
   ],
   "source": [
    "df"
   ]
  },
  {
   "attachments": {},
   "cell_type": "markdown",
   "metadata": {},
   "source": [
    "# 2.Utilizing ChatGPT to analyze the text patterns"
   ]
  },
  {
   "cell_type": "code",
   "execution_count": 1,
   "metadata": {},
   "outputs": [],
   "source": [
    "import openai"
   ]
  },
  {
   "cell_type": "code",
   "execution_count": null,
   "metadata": {},
   "outputs": [],
   "source": [
    "def pattern_anlysis(prompt_topic,text):\n",
    "\n",
    "    response = openai.ChatCompletion.create(\n",
    "    model=\"gpt-3.5-turbo\",\n",
    "    messages=[\n",
    "            {\"role\": \"system\", \"content\": \"You are a helpful assistant that summarize and analyze text.\"},\n",
    "            {\"role\": \"user\", \"content\": prompt_topic + text},\n",
    "        ]\n",
    "    )\n",
    "\n",
    "    return response"
   ]
  },
  {
   "attachments": {},
   "cell_type": "markdown",
   "metadata": {},
   "source": [
    "## 2.1 Find relevent content in full text by topics"
   ]
  },
  {
   "cell_type": "code",
   "execution_count": null,
   "metadata": {},
   "outputs": [],
   "source": [
    "prompt = \"\"\"Answer the following questions based on text:\n",
    "1.list the objectives of the Federal Open Market Committee。\n",
    "2.quote the most relevent content about the objective of controlling inflation.\n",
    "3.quote the most relevent content about the objective of ecomonic expansion.\n",
    "4.quote the most relevent content about the objective of money supply.\n",
    "5.quote the most relevent content about the objective of the range of federal funds rate.\n",
    "6.quote the most relevent content about the objective of international transaction.\n",
    "Text:\n",
    "\"\"\""
   ]
  },
  {
   "cell_type": "code",
   "execution_count": null,
   "metadata": {},
   "outputs": [],
   "source": [
    "dic = {}\n",
    "\n",
    "for i in df.index:\n",
    "    text = df.outlook_clean.values[i]\n",
    "    response = text_anlysis(text)\n",
    "    dic[i] = response\n",
    "    print(i)"
   ]
  },
  {
   "cell_type": "code",
   "execution_count": null,
   "metadata": {},
   "outputs": [],
   "source": [
    "# convert dict to list\n",
    "list_response = list(dic.values())\n",
    "#and the list to a new column of df\n",
    "df_result = df.copy()\n",
    "df_result[\"response\"] = list_response\n",
    "df_result[\"total_tokens\"] = df_result.response.apply(lambda x: x[\"usage\"][\"total_tokens\"])\n",
    "df_result[\"answer\"] = df_result.response.apply(lambda x: x['choices'][0]['message']['content']) \n",
    "#save result df_test\n",
    "#df_result.to_csv(os.path.join(dir,'OUTPUT/fed_minutes_new_response_1979_1983.csv'), index=False)"
   ]
  },
  {
   "cell_type": "code",
   "execution_count": null,
   "metadata": {},
   "outputs": [],
   "source": [
    "# post processing for GPT response\n",
    "\n",
    "#remove /n in the text\n",
    "df_result[\"answer\"] = df_result.answer.apply(lambda x: x.replace(\"\\n\", \" \") if x is not None else None)\n",
    "# split answer text to 6 new columns\n",
    "df_result[\"answer1\"] = df_result.answer.apply(lambda x: x.split(\"1.\")[1].split(\"2.\")[0] if \"1.\" in x else None)\n",
    "df_result[\"answer2\"] = df_result.answer.apply(lambda x: x.split(\"2.\")[1].split(\"3.\")[0] if \"2.\" in x else None)\n",
    "df_result[\"answer3\"] = df_result.answer.apply(lambda x: x.split(\"3.\")[1].split(\"4.\")[0] if \"3.\" in x else None)\n",
    "df_result[\"answer4\"] = df_result.answer.apply(lambda x: x.split(\"4.\")[1].split(\"5.\")[0] if \"4.\" in x else None)\n",
    "df_result[\"answer5\"] = df_result.answer.apply(lambda x: x.split(\"5.\")[1].split(\"6.\")[0] if \"5.\" in x else None)\n",
    "df_result[\"answer6\"] = df_result.answer.apply(lambda x: x.split(\"6.\")[1].split(\"Text:\")[0] if \"6.\" in x else None)"
   ]
  },
  {
   "attachments": {},
   "cell_type": "markdown",
   "metadata": {},
   "source": [
    "## 2.2 Find text patterns for each topic"
   ]
  },
  {
   "cell_type": "code",
   "execution_count": null,
   "metadata": {},
   "outputs": [],
   "source": [
    "def pattern_anlysis(prompt_topic,text):\n",
    "\n",
    "    response = openai.ChatCompletion.create(\n",
    "    model=\"gpt-3.5-turbo\",\n",
    "    messages=[\n",
    "            {\"role\": \"system\", \"content\": \"You are a helpful assistant that summarize and analyze text.\"},\n",
    "            {\"role\": \"user\", \"content\": prompt_topic + text},\n",
    "        ]\n",
    "    )\n",
    "\n",
    "    return response"
   ]
  },
  {
   "cell_type": "code",
   "execution_count": null,
   "metadata": {},
   "outputs": [
    {
     "name": "stdout",
     "output_type": "stream",
     "text": [
      "The most frequently used phrases or expressions related to inflation in the FED meeting minutes include:\n",
      "\n",
      "- \"The Federal Open Market Committee seeks to foster monetary and financial conditions that will resist inflationary pressures\"\n",
      "- \"The Federal Open Market Committee seeks to foster monetary and financial conditions that will help to reduce inflation\"\n",
      "- \"The Federal Open Market Committee seeks to foster monetary and financial conditions that will help to reduce inflation further\"\n",
      "\n",
      "These phrases indicate that controlling and reducing inflation is a key objective for the committee. They also emphasize the importance of fostering monetary and financial conditions that resist inflationary pressures while encouraging economic expansion and sustainable international transactions.\n"
     ]
    }
   ],
   "source": [
    "prompt_inflation = \"\"\"Please identify the most frequently used phrases or expressions related to inflation in the FED meeting minutes. Here is the extracted text containing information about inflation from several meeting minutes, separated by dashes (-):\n",
    "\"\"\"\n",
    "inflation_text = df_result.answer2.str.cat(sep='-')\n",
    "response = pattern_anlysis(prompt_inflation,inflation_text)\n",
    "print(response['choices'][0]['message']['content'])\n"
   ]
  },
  {
   "cell_type": "code",
   "execution_count": null,
   "metadata": {},
   "outputs": [
    {
     "name": "stdout",
     "output_type": "stream",
     "text": [
      "The most frequently used phrases or expressions related to inflation in the FED meeting minutes are \"encouraging moderate economic expansion\", \"encourage economic recovery\", \"promote sustained economic growth\" and \"promote a resumption of growth in output on a sustainable basis\". These expressions are mentioned multiple times throughout the extracted text from different meeting minutes. Additionally, there is a mention of setting tentative ranges in furtherance of these objectives, which is indirectly related to inflation.\n"
     ]
    }
   ],
   "source": [
    "prompt_econ = \"\"\"Please identify the most frequently used phrases or expressions related to economic growth in the FED meeting minutes. Here is the extracted text containing information about ecomonic growth from several meeting minutes, separated by dashes (-):\n",
    "\"\"\"\n",
    "#concatenate all answer3 to text\n",
    "econ_growth_text = df_result.answer3.str.cat(sep='-')\n",
    "response = pattern_anlysis(prompt_econ, econ_growth_text)\n",
    "print(response['choices'][0]['message']['content'])"
   ]
  },
  {
   "cell_type": "code",
   "execution_count": null,
   "metadata": {},
   "outputs": [
    {
     "name": "stdout",
     "output_type": "stream",
     "text": [
      "Based on the extracted text related to money supply from several FED meeting minutes, we can identify the following categories for FED's objectives about money supply:\n",
      "\n",
      "1. Growth of M-1, M-2, and M-3 from a specific quarter of one year to the same quarter of the next year within specific ranges (e.g., 1-1/2 to 4-1/2 percent, 5 to 8 percent, and 6 to 9 percent).\n",
      "2. Maintaining moderate growth in money supply.\n",
      "3. Maintaining expansion in bank reserves needed for an orderly and sustained flow of money and credit.\n",
      "4. Monitoring the behavior of the broader monetary aggregates, such as M1 and total domestic nonfinancial debt.\n",
      "5. Establishing growth ranges for monetary and credit aggregates for a specific year in furtherance of specific objectives (e.g., growth ranges of 2-1/2 to 5-1/2 percent, 6 to 9 percent, and 6-1/2 to 9-1/2 percent for M1, M2, and M3 from the fourth quarter of 1981 to the fourth quarter of 1982).\n",
      "6. Acknowledging the relationships between growth ranges for monetary and credit aggregates and ultimate economic goals becoming less predictable.\n"
     ]
    }
   ],
   "source": [
    "prompt_money = \"\"\"Please analyze the following extracted text related to money supply from several FED meeting minutes and provide categories for the different FED's objectives about money supply. The text is separated by dashes (-) and is as follows:\n",
    "\"\"\"\n",
    "#concatenate all answer4 to text\n",
    "money_text = df_csv.answer4.str.cat(sep='-')\n",
    "response = pattern_anlysis(prompt_money, money_text)\n",
    "print(response['choices'][0]['message']['content'])"
   ]
  },
  {
   "attachments": {},
   "cell_type": "markdown",
   "metadata": {},
   "source": [
    "# 3. Extrct expression used in the meeting minutes for each topic\n",
    "\n",
    "This step can be done by python or excel."
   ]
  },
  {
   "attachments": {},
   "cell_type": "markdown",
   "metadata": {},
   "source": [
    "# 4. TEST: A deep dive into individual articles using ChatGPT\n",
    "\n",
    "The sentiment analysis was not effective for analyzing the Fed meeting minutes in 1980s, as the language used in the documents is highly structured and standardized. Instead, we will focus on extracting expressions from the text and manually analyzing the subtle attitudes of the Fed.\n",
    "\n",
    "The results are shown below for references."
   ]
  },
  {
   "cell_type": "code",
   "execution_count": null,
   "metadata": {},
   "outputs": [],
   "source": [
    "import openai\n",
    "\n",
    "def text_anlysis(text):\n",
    "\n",
    "    response = openai.ChatCompletion.create(\n",
    "    model=\"gpt-3.5-turbo\",\n",
    "        messages=[\n",
    "            {\"role\": \"system\", \"content\": \"You are a helpful assistant that summarize and analyze text.\"},\n",
    "            {\"role\": \"user\", \"content\": prompt + text},\n",
    "        ]\n",
    "    )\n",
    "\n",
    "    return response"
   ]
  },
  {
   "cell_type": "code",
   "execution_count": null,
   "metadata": {},
   "outputs": [],
   "source": [
    "prompt = \"\"\"Based on the provided text, complete the following tasks:\n",
    "\n",
    "1.Identify the objective of inflation control and categorize it into one of these three options: maintain the current state, mildly reduce, or strongly reduce.\n",
    "2.Identify the objective of economic expansion and classify it into one of these three options: maintain the current state, mildly promote, or strongly promote.\n",
    "3.Identify the objective of money supply and categorize it into one of these five options: maintain the current state, mildly increase, strongly increase, mildly decrease, or strongly decrease.\n",
    "4.Identify the objective the federal funds rate and classify it into one of these three options: maintain the current state, reduce, or increase.\n",
    "\n",
    "Text:\n",
    "\"\"\""
   ]
  },
  {
   "cell_type": "code",
   "execution_count": null,
   "metadata": {},
   "outputs": [],
   "source": [
    "# test response\n",
    "text = df.outlook_clean.values[-1]\n",
    "response = text_anlysis(text)\n",
    "print(response['choices'][0]['message']['content'])"
   ]
  },
  {
   "cell_type": "code",
   "execution_count": null,
   "metadata": {},
   "outputs": [],
   "source": [
    "prompt = \"\"\"Answer the following questions based on text:\n",
    "1.list the objectives of the Federal Open Market Committee。\n",
    "2.quote the most relevent content about the objective of controlling inflation.\n",
    "3.quote the most relevent content about the objective of ecomonic expansion.\n",
    "4.quote the most relevent content about the objective of money supply.\n",
    "5.quote the most relevent content about the objective of the range of federal funds rate.\n",
    "6.quote the most relevent content about the objective of international transaction.\n",
    "Text:\n",
    "\"\"\""
   ]
  },
  {
   "cell_type": "code",
   "execution_count": null,
   "metadata": {},
   "outputs": [
    {
     "name": "stdout",
     "output_type": "stream",
     "text": [
      "1. The objectives of the Federal Open Market Committee are: to resist inflationary pressures, encourage moderate economic expansion, contribute to a sustainable pattern of international transactions, achieve bank reserve and money market conditions consistent with the longer-run ranges for monetary aggregates, and maintain the federal funds rate within a certain range.\n",
      "2. \"The Federal Open Market Committee seeks to foster monetary and financial conditions that will resist inflationary pressures.\"\n",
      "3. \"encouraging moderate economic expansion\"\n",
      "4. \"growth of M-1, M-2, and M-3 from the fourth quarter of 1978 to the fourth quarter of 1979 within ranges of 1-1/2 to 4-1/2 percent, 5 to 8 percent, and 6 to 9 percent, respectively\"\n",
      "5. \"maintaining the weekly average federal funds rate within the range of 9-3/4 to 10-1/2 percent\"\n",
      "6. \"contributing to a sustainable pattern of international transactions\"\n"
     ]
    }
   ],
   "source": [
    "# test response\n",
    "text = df.outlook_clean.values[2]\n",
    "response = text_anlysis(text)\n",
    "print(response['choices'][0]['message']['content'])"
   ]
  }
 ],
 "metadata": {
  "kernelspec": {
   "display_name": "base",
   "language": "python",
   "name": "python3"
  },
  "language_info": {
   "codemirror_mode": {
    "name": "ipython",
    "version": 3
   },
   "file_extension": ".py",
   "mimetype": "text/x-python",
   "name": "python",
   "nbconvert_exporter": "python",
   "pygments_lexer": "ipython3",
   "version": "3.9.13"
  },
  "orig_nbformat": 4
 },
 "nbformat": 4,
 "nbformat_minor": 2
}
